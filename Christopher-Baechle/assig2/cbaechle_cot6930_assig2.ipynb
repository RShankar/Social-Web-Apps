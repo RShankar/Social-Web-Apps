{
 "metadata": {
  "name": "",
  "signature": "sha256:d3be725f73cb1a9cba9ee82881889c98c5371cdf0d28c63aaad86d6867c4bf98"
 },
 "nbformat": 3,
 "nbformat_minor": 0,
 "worksheets": [
  {
   "cells": [
    {
     "cell_type": "code",
     "collapsed": false,
     "input": [
      "import numpy as np\n",
      "import pandas as pd\n",
      "import scipy as sp\n",
      "import matplotlib as plt\n",
      "import json\n",
      "from sklearn.cluster import KMeans\n",
      "from IPython.display import IFrame"
     ],
     "language": "python",
     "metadata": {},
     "outputs": [],
     "prompt_number": 1
    },
    {
     "cell_type": "markdown",
     "metadata": {},
     "source": [
      "###Read in JSON"
     ]
    },
    {
     "cell_type": "code",
     "collapsed": false,
     "input": [
      "records = [json.loads(line) for line in open('combined.txt','rb')]"
     ],
     "language": "python",
     "metadata": {},
     "outputs": [],
     "prompt_number": 2
    },
    {
     "cell_type": "markdown",
     "metadata": {},
     "source": [
      "###Get all the URLs"
     ]
    },
    {
     "cell_type": "code",
     "collapsed": false,
     "input": [
      "urls = [x['u'] for x in records if 'll' in x]"
     ],
     "language": "python",
     "metadata": {},
     "outputs": [],
     "prompt_number": 3
    },
    {
     "cell_type": "markdown",
     "metadata": {},
     "source": [
      "###Perturb all the lat's and lon's using a gaussian random function"
     ]
    },
    {
     "cell_type": "code",
     "collapsed": false,
     "input": [
      "mu, sigma = 0,0.01\n",
      "points = [[(np.random.normal(mu,sigma) + x['ll'][0]),(np.random.normal(mu,sigma) + x['ll'][1])] for x in records if 'll' in x]"
     ],
     "language": "python",
     "metadata": {},
     "outputs": [],
     "prompt_number": 4
    },
    {
     "cell_type": "markdown",
     "metadata": {},
     "source": [
      "###Use a machine learning technique to get the centroids of points (KMeans)"
     ]
    },
    {
     "cell_type": "code",
     "collapsed": false,
     "input": [
      "model = KMeans()\n",
      "model.fit(points)\n",
      "\n",
      "centers = [ [float(x[0]),float(x[1])] for x in model.cluster_centers_ ]"
     ],
     "language": "python",
     "metadata": {},
     "outputs": [],
     "prompt_number": 5
    },
    {
     "cell_type": "markdown",
     "metadata": {},
     "source": [
      "###Get the counts for each centroid"
     ]
    },
    {
     "cell_type": "code",
     "collapsed": false,
     "input": [
      "labels = model.labels_\n",
      "counts = [ (labels[labels == x]).size for x in range(0,len(centers))]"
     ],
     "language": "python",
     "metadata": {},
     "outputs": [],
     "prompt_number": 6
    },
    {
     "cell_type": "markdown",
     "metadata": {},
     "source": [
      "###Convert to JSON format so javascript can use our data"
     ]
    },
    {
     "cell_type": "code",
     "collapsed": false,
     "input": [
      "raw_data = {'centers':centers, 'counts':counts, 'points':points, 'urls':urls}\n",
      "json_data = json.JSONEncoder().encode(raw_data)"
     ],
     "language": "python",
     "metadata": {},
     "outputs": [],
     "prompt_number": 7
    },
    {
     "cell_type": "markdown",
     "metadata": {},
     "source": [
      "###Add in our points to our template file"
     ]
    },
    {
     "cell_type": "code",
     "collapsed": false,
     "input": [
      "f1 = open('template.html', 'r')\n",
      "f2 = open('map.html', 'w')\n",
      "for line in f1:\n",
      "    f2.write(line.replace('##REPLACEHERE##', json_data))\n",
      "f1.close()\n",
      "f2.close()"
     ],
     "language": "python",
     "metadata": {},
     "outputs": [],
     "prompt_number": 8
    },
    {
     "cell_type": "markdown",
     "metadata": {},
     "source": [
      "###Display map\n",
      "* Zoom in to see individual markers<br />\n",
      "* Zoom out to see centroid counts<br />\n",
      "* Click marker to see full url<br />\n",
      "* Hover over marker to see lat and lon<br />"
     ]
    },
    {
     "cell_type": "code",
     "collapsed": false,
     "input": [
      "IFrame('map.html', width=900, height=500)"
     ],
     "language": "python",
     "metadata": {},
     "outputs": [
      {
       "html": [
        "\n",
        "        <iframe\n",
        "            width=\"900\"\n",
        "            height=500\"\n",
        "            src=\"map.html\"\n",
        "            frameborder=\"0\"\n",
        "            allowfullscreen\n",
        "        ></iframe>\n",
        "        "
       ],
       "metadata": {},
       "output_type": "pyout",
       "prompt_number": 9,
       "text": [
        "<IPython.lib.display.IFrame at 0x7f54db829b10>"
       ]
      }
     ],
     "prompt_number": 9
    },
    {
     "cell_type": "code",
     "collapsed": false,
     "input": [],
     "language": "python",
     "metadata": {},
     "outputs": [],
     "prompt_number": 9
    }
   ],
   "metadata": {}
  }
 ]
}